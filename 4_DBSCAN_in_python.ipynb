{
 "cells": [
  {
   "cell_type": "markdown",
   "id": "c85f9191",
   "metadata": {},
   "source": [
    "# Clustering with DBSCAN\n",
    "## Clustering airlines based on average air time and average arrival delay using DBSCAN"
   ]
  },
  {
   "cell_type": "markdown",
   "id": "d901efd7",
   "metadata": {},
   "source": [
    "In this notebook we will come back to our flights data and apply the DBSCAN clustering algorithm. \n",
    "\n",
    "At the end of this notebook you should: \n",
    "* know how to use the sklearn implementations of `DBSCAN`  \n",
    "* know which steps are necessary to perform clustering with `DBSCAN`    "
   ]
  },
  {
   "cell_type": "markdown",
   "id": "c9c15c21",
   "metadata": {},
   "source": [
    "# Task\n",
    "As K-Means has its Limitations, use DBSCAN for clustering the different airlines in our flight data based on their average Air Time and average Arrival Delay."
   ]
  },
  {
   "cell_type": "code",
   "execution_count": 1,
   "id": "43076016",
   "metadata": {},
   "outputs": [],
   "source": [
    "# Import all necessary libraries\n",
    "import pandas as pd\n",
    "import numpy as np\n",
    "import matplotlib.pyplot as plt\n",
    "\n",
    "from sklearn.cluster import KMeans\n",
    "from sklearn.cluster import DBSCAN\n",
    "from sklearn.preprocessing import StandardScaler"
   ]
  },
  {
   "cell_type": "markdown",
   "id": "598d2662",
   "metadata": {},
   "source": [
    "## Steps to follow\n",
    "**Hint:** You can use the k-means-in-python notebook as guide for this exercise."
   ]
  },
  {
   "cell_type": "code",
   "execution_count": 2,
   "id": "4a3d34f3",
   "metadata": {},
   "outputs": [],
   "source": [
    "# Import get_dataframe function from your own sql module\n",
    "from sql_functions import get_dataframe\n",
    "# Import get_engine\n",
    "from sql_functions import get_engine\n",
    "# create a variable called engine using the get_engine function\n",
    "engine = get_engine()"
   ]
  },
  {
   "cell_type": "code",
   "execution_count": 3,
   "id": "8aab31a0",
   "metadata": {},
   "outputs": [],
   "source": [
    "# define/assign the schema you want to query from\n",
    "schema = 'hh_analytics_24_1'"
   ]
  },
  {
   "cell_type": "code",
   "execution_count": 4,
   "id": "78af28f6",
   "metadata": {},
   "outputs": [],
   "source": [
    "# Get the aggregated data from the database\n",
    "     # airline, avg(air_time), avg(arr_delay\n",
    "# Hint: As in Notebook 2, use sql a select statement within pd.read_sql_query().\n",
    "sql_select = f'''select\n",
    "                    airline,\n",
    "                    avg(air_time) as avg_air_time,\n",
    "                    avg(arr_delay) as avg_arr_delay\n",
    "               from {schema}.flights\n",
    "               group by 1\n",
    "               '''"
   ]
  },
  {
   "cell_type": "code",
   "execution_count": 5,
   "id": "2766b9ce",
   "metadata": {},
   "outputs": [],
   "source": [
    "# Query the database\n",
    "dbscan_data = pd.read_sql_query(sql_select, engine)"
   ]
  },
  {
   "cell_type": "code",
   "execution_count": 6,
   "id": "b18a8aeb",
   "metadata": {},
   "outputs": [
    {
     "data": {
      "text/html": [
       "<div>\n",
       "<style scoped>\n",
       "    .dataframe tbody tr th:only-of-type {\n",
       "        vertical-align: middle;\n",
       "    }\n",
       "\n",
       "    .dataframe tbody tr th {\n",
       "        vertical-align: top;\n",
       "    }\n",
       "\n",
       "    .dataframe thead th {\n",
       "        text-align: right;\n",
       "    }\n",
       "</style>\n",
       "<table border=\"1\" class=\"dataframe\">\n",
       "  <thead>\n",
       "    <tr style=\"text-align: right;\">\n",
       "      <th></th>\n",
       "      <th>airline</th>\n",
       "      <th>avg_air_time</th>\n",
       "      <th>avg_arr_delay</th>\n",
       "    </tr>\n",
       "  </thead>\n",
       "  <tbody>\n",
       "    <tr>\n",
       "      <th>0</th>\n",
       "      <td>9E</td>\n",
       "      <td>61.791292</td>\n",
       "      <td>-7.666273</td>\n",
       "    </tr>\n",
       "    <tr>\n",
       "      <th>1</th>\n",
       "      <td>AA</td>\n",
       "      <td>140.025458</td>\n",
       "      <td>-6.076874</td>\n",
       "    </tr>\n",
       "    <tr>\n",
       "      <th>2</th>\n",
       "      <td>AS</td>\n",
       "      <td>175.043396</td>\n",
       "      <td>-8.930206</td>\n",
       "    </tr>\n",
       "    <tr>\n",
       "      <th>3</th>\n",
       "      <td>B6</td>\n",
       "      <td>167.544466</td>\n",
       "      <td>4.639062</td>\n",
       "    </tr>\n",
       "    <tr>\n",
       "      <th>4</th>\n",
       "      <td>DL</td>\n",
       "      <td>135.102183</td>\n",
       "      <td>-4.898960</td>\n",
       "    </tr>\n",
       "  </tbody>\n",
       "</table>\n",
       "</div>"
      ],
      "text/plain": [
       "  airline  avg_air_time  avg_arr_delay\n",
       "0      9E     61.791292      -7.666273\n",
       "1      AA    140.025458      -6.076874\n",
       "2      AS    175.043396      -8.930206\n",
       "3      B6    167.544466       4.639062\n",
       "4      DL    135.102183      -4.898960"
      ]
     },
     "execution_count": 6,
     "metadata": {},
     "output_type": "execute_result"
    }
   ],
   "source": [
    "# check results\n",
    "dbscan_data.head()"
   ]
  },
  {
   "cell_type": "code",
   "execution_count": 7,
   "id": "9a392215",
   "metadata": {},
   "outputs": [],
   "source": [
    "# Set up the scaler object to standardize the data using StandardScaler()\n",
    "sc = StandardScaler()\n",
    "scaled_data = sc.fit_transform(dbscan_data[['avg_air_time', 'avg_arr_delay']])"
   ]
  },
  {
   "cell_type": "code",
   "execution_count": 8,
   "id": "69990114",
   "metadata": {},
   "outputs": [
    {
     "data": {
      "text/plain": [
       "array([[-1.5527464 , -0.85398448],\n",
       "       [ 0.69995618, -0.39410511],\n",
       "       [ 1.70827522, -1.2196933 ],\n",
       "       [ 1.49234835,  2.70646343],\n",
       "       [ 0.55819364, -0.05328537],\n",
       "       [ 0.37523007, -0.94321833],\n",
       "       [ 0.22571071,  1.41120815],\n",
       "       [ 0.74382687, -0.55955803],\n",
       "       [-1.03784605,  1.10975542],\n",
       "       [ 0.67343831,  0.12990026],\n",
       "       [-1.3985775 ,  0.76387432],\n",
       "       [-0.967938  ,  0.32292071],\n",
       "       [-1.03177606, -0.16848109],\n",
       "       [ 1.14846457, -0.6402114 ],\n",
       "       [-0.25887898, -0.68514903],\n",
       "       [-0.49647275,  0.18201104],\n",
       "       [-0.88120818, -1.10844719]])"
      ]
     },
     "execution_count": 8,
     "metadata": {},
     "output_type": "execute_result"
    }
   ],
   "source": [
    "# Result is a transformed array with transformed values\n",
    "scaled_data"
   ]
  },
  {
   "cell_type": "code",
   "execution_count": 56,
   "id": "b4bf6b85",
   "metadata": {},
   "outputs": [
    {
     "data": {
      "text/html": [
       "<style>#sk-container-id-13 {color: black;}#sk-container-id-13 pre{padding: 0;}#sk-container-id-13 div.sk-toggleable {background-color: white;}#sk-container-id-13 label.sk-toggleable__label {cursor: pointer;display: block;width: 100%;margin-bottom: 0;padding: 0.3em;box-sizing: border-box;text-align: center;}#sk-container-id-13 label.sk-toggleable__label-arrow:before {content: \"▸\";float: left;margin-right: 0.25em;color: #696969;}#sk-container-id-13 label.sk-toggleable__label-arrow:hover:before {color: black;}#sk-container-id-13 div.sk-estimator:hover label.sk-toggleable__label-arrow:before {color: black;}#sk-container-id-13 div.sk-toggleable__content {max-height: 0;max-width: 0;overflow: hidden;text-align: left;background-color: #f0f8ff;}#sk-container-id-13 div.sk-toggleable__content pre {margin: 0.2em;color: black;border-radius: 0.25em;background-color: #f0f8ff;}#sk-container-id-13 input.sk-toggleable__control:checked~div.sk-toggleable__content {max-height: 200px;max-width: 100%;overflow: auto;}#sk-container-id-13 input.sk-toggleable__control:checked~label.sk-toggleable__label-arrow:before {content: \"▾\";}#sk-container-id-13 div.sk-estimator input.sk-toggleable__control:checked~label.sk-toggleable__label {background-color: #d4ebff;}#sk-container-id-13 div.sk-label input.sk-toggleable__control:checked~label.sk-toggleable__label {background-color: #d4ebff;}#sk-container-id-13 input.sk-hidden--visually {border: 0;clip: rect(1px 1px 1px 1px);clip: rect(1px, 1px, 1px, 1px);height: 1px;margin: -1px;overflow: hidden;padding: 0;position: absolute;width: 1px;}#sk-container-id-13 div.sk-estimator {font-family: monospace;background-color: #f0f8ff;border: 1px dotted black;border-radius: 0.25em;box-sizing: border-box;margin-bottom: 0.5em;}#sk-container-id-13 div.sk-estimator:hover {background-color: #d4ebff;}#sk-container-id-13 div.sk-parallel-item::after {content: \"\";width: 100%;border-bottom: 1px solid gray;flex-grow: 1;}#sk-container-id-13 div.sk-label:hover label.sk-toggleable__label {background-color: #d4ebff;}#sk-container-id-13 div.sk-serial::before {content: \"\";position: absolute;border-left: 1px solid gray;box-sizing: border-box;top: 0;bottom: 0;left: 50%;z-index: 0;}#sk-container-id-13 div.sk-serial {display: flex;flex-direction: column;align-items: center;background-color: white;padding-right: 0.2em;padding-left: 0.2em;position: relative;}#sk-container-id-13 div.sk-item {position: relative;z-index: 1;}#sk-container-id-13 div.sk-parallel {display: flex;align-items: stretch;justify-content: center;background-color: white;position: relative;}#sk-container-id-13 div.sk-item::before, #sk-container-id-13 div.sk-parallel-item::before {content: \"\";position: absolute;border-left: 1px solid gray;box-sizing: border-box;top: 0;bottom: 0;left: 50%;z-index: -1;}#sk-container-id-13 div.sk-parallel-item {display: flex;flex-direction: column;z-index: 1;position: relative;background-color: white;}#sk-container-id-13 div.sk-parallel-item:first-child::after {align-self: flex-end;width: 50%;}#sk-container-id-13 div.sk-parallel-item:last-child::after {align-self: flex-start;width: 50%;}#sk-container-id-13 div.sk-parallel-item:only-child::after {width: 0;}#sk-container-id-13 div.sk-dashed-wrapped {border: 1px dashed gray;margin: 0 0.4em 0.5em 0.4em;box-sizing: border-box;padding-bottom: 0.4em;background-color: white;}#sk-container-id-13 div.sk-label label {font-family: monospace;font-weight: bold;display: inline-block;line-height: 1.2em;}#sk-container-id-13 div.sk-label-container {text-align: center;}#sk-container-id-13 div.sk-container {/* jupyter's `normalize.less` sets `[hidden] { display: none; }` but bootstrap.min.css set `[hidden] { display: none !important; }` so we also need the `!important` here to be able to override the default hidden behavior on the sphinx rendered scikit-learn.org. See: https://github.com/scikit-learn/scikit-learn/issues/21755 */display: inline-block !important;position: relative;}#sk-container-id-13 div.sk-text-repr-fallback {display: none;}</style><div id=\"sk-container-id-13\" class=\"sk-top-container\"><div class=\"sk-text-repr-fallback\"><pre>DBSCAN(eps=0.85, min_samples=3)</pre><b>In a Jupyter environment, please rerun this cell to show the HTML representation or trust the notebook. <br />On GitHub, the HTML representation is unable to render, please try loading this page with nbviewer.org.</b></div><div class=\"sk-container\" hidden><div class=\"sk-item\"><div class=\"sk-estimator sk-toggleable\"><input class=\"sk-toggleable__control sk-hidden--visually\" id=\"sk-estimator-id-13\" type=\"checkbox\" checked><label for=\"sk-estimator-id-13\" class=\"sk-toggleable__label sk-toggleable__label-arrow\">DBSCAN</label><div class=\"sk-toggleable__content\"><pre>DBSCAN(eps=0.85, min_samples=3)</pre></div></div></div></div></div>"
      ],
      "text/plain": [
       "DBSCAN(eps=0.85, min_samples=3)"
      ]
     },
     "execution_count": 56,
     "metadata": {},
     "output_type": "execute_result"
    }
   ],
   "source": [
    "# Set up the DBSCAN object and cluster using the scaled data\n",
    "# Hint: dbscan=DBSCAN(), dbscan.fit(yourdata)\n",
    "\n",
    "dbscan = DBSCAN(eps = 0.85, min_samples=3)\n",
    "dbscan.fit(X = scaled_data)"
   ]
  },
  {
   "cell_type": "code",
   "execution_count": 57,
   "id": "09e4aa22",
   "metadata": {},
   "outputs": [],
   "source": [
    "# Write the clusters (.labels_) to the dataframe as a new column \n",
    "dbscan_data['db_clusters'] = dbscan.labels_"
   ]
  },
  {
   "cell_type": "code",
   "execution_count": 58,
   "id": "3e9b34e2",
   "metadata": {},
   "outputs": [
    {
     "data": {
      "text/html": [
       "<div>\n",
       "<style scoped>\n",
       "    .dataframe tbody tr th:only-of-type {\n",
       "        vertical-align: middle;\n",
       "    }\n",
       "\n",
       "    .dataframe tbody tr th {\n",
       "        vertical-align: top;\n",
       "    }\n",
       "\n",
       "    .dataframe thead th {\n",
       "        text-align: right;\n",
       "    }\n",
       "</style>\n",
       "<table border=\"1\" class=\"dataframe\">\n",
       "  <thead>\n",
       "    <tr style=\"text-align: right;\">\n",
       "      <th></th>\n",
       "      <th>airline</th>\n",
       "      <th>avg_air_time</th>\n",
       "      <th>avg_arr_delay</th>\n",
       "      <th>db_clusters</th>\n",
       "    </tr>\n",
       "  </thead>\n",
       "  <tbody>\n",
       "    <tr>\n",
       "      <th>0</th>\n",
       "      <td>9E</td>\n",
       "      <td>61.791292</td>\n",
       "      <td>-7.666273</td>\n",
       "      <td>0</td>\n",
       "    </tr>\n",
       "    <tr>\n",
       "      <th>1</th>\n",
       "      <td>AA</td>\n",
       "      <td>140.025458</td>\n",
       "      <td>-6.076874</td>\n",
       "      <td>0</td>\n",
       "    </tr>\n",
       "    <tr>\n",
       "      <th>2</th>\n",
       "      <td>AS</td>\n",
       "      <td>175.043396</td>\n",
       "      <td>-8.930206</td>\n",
       "      <td>0</td>\n",
       "    </tr>\n",
       "    <tr>\n",
       "      <th>3</th>\n",
       "      <td>B6</td>\n",
       "      <td>167.544466</td>\n",
       "      <td>4.639062</td>\n",
       "      <td>-1</td>\n",
       "    </tr>\n",
       "    <tr>\n",
       "      <th>4</th>\n",
       "      <td>DL</td>\n",
       "      <td>135.102183</td>\n",
       "      <td>-4.898960</td>\n",
       "      <td>0</td>\n",
       "    </tr>\n",
       "    <tr>\n",
       "      <th>5</th>\n",
       "      <td>F9</td>\n",
       "      <td>128.748037</td>\n",
       "      <td>-7.974675</td>\n",
       "      <td>0</td>\n",
       "    </tr>\n",
       "    <tr>\n",
       "      <th>6</th>\n",
       "      <td>G4</td>\n",
       "      <td>123.555375</td>\n",
       "      <td>0.162505</td>\n",
       "      <td>-1</td>\n",
       "    </tr>\n",
       "    <tr>\n",
       "      <th>7</th>\n",
       "      <td>HA</td>\n",
       "      <td>141.549044</td>\n",
       "      <td>-6.648699</td>\n",
       "      <td>0</td>\n",
       "    </tr>\n",
       "    <tr>\n",
       "      <th>8</th>\n",
       "      <td>MQ</td>\n",
       "      <td>79.673279</td>\n",
       "      <td>-0.879352</td>\n",
       "      <td>1</td>\n",
       "    </tr>\n",
       "    <tr>\n",
       "      <th>9</th>\n",
       "      <td>NK</td>\n",
       "      <td>139.104518</td>\n",
       "      <td>-4.265849</td>\n",
       "      <td>0</td>\n",
       "    </tr>\n",
       "    <tr>\n",
       "      <th>10</th>\n",
       "      <td>OH</td>\n",
       "      <td>67.145428</td>\n",
       "      <td>-2.074759</td>\n",
       "      <td>1</td>\n",
       "    </tr>\n",
       "    <tr>\n",
       "      <th>11</th>\n",
       "      <td>OO</td>\n",
       "      <td>82.101118</td>\n",
       "      <td>-3.598747</td>\n",
       "      <td>1</td>\n",
       "    </tr>\n",
       "    <tr>\n",
       "      <th>12</th>\n",
       "      <td>QX</td>\n",
       "      <td>79.884084</td>\n",
       "      <td>-5.297091</td>\n",
       "      <td>1</td>\n",
       "    </tr>\n",
       "    <tr>\n",
       "      <th>13</th>\n",
       "      <td>UA</td>\n",
       "      <td>155.601717</td>\n",
       "      <td>-6.927447</td>\n",
       "      <td>0</td>\n",
       "    </tr>\n",
       "    <tr>\n",
       "      <th>14</th>\n",
       "      <td>WN</td>\n",
       "      <td>106.726047</td>\n",
       "      <td>-7.082757</td>\n",
       "      <td>0</td>\n",
       "    </tr>\n",
       "    <tr>\n",
       "      <th>15</th>\n",
       "      <td>YV</td>\n",
       "      <td>98.474647</td>\n",
       "      <td>-4.085748</td>\n",
       "      <td>1</td>\n",
       "    </tr>\n",
       "    <tr>\n",
       "      <th>16</th>\n",
       "      <td>YX</td>\n",
       "      <td>85.113160</td>\n",
       "      <td>-8.545726</td>\n",
       "      <td>0</td>\n",
       "    </tr>\n",
       "  </tbody>\n",
       "</table>\n",
       "</div>"
      ],
      "text/plain": [
       "   airline  avg_air_time  avg_arr_delay  db_clusters\n",
       "0       9E     61.791292      -7.666273            0\n",
       "1       AA    140.025458      -6.076874            0\n",
       "2       AS    175.043396      -8.930206            0\n",
       "3       B6    167.544466       4.639062           -1\n",
       "4       DL    135.102183      -4.898960            0\n",
       "5       F9    128.748037      -7.974675            0\n",
       "6       G4    123.555375       0.162505           -1\n",
       "7       HA    141.549044      -6.648699            0\n",
       "8       MQ     79.673279      -0.879352            1\n",
       "9       NK    139.104518      -4.265849            0\n",
       "10      OH     67.145428      -2.074759            1\n",
       "11      OO     82.101118      -3.598747            1\n",
       "12      QX     79.884084      -5.297091            1\n",
       "13      UA    155.601717      -6.927447            0\n",
       "14      WN    106.726047      -7.082757            0\n",
       "15      YV     98.474647      -4.085748            1\n",
       "16      YX     85.113160      -8.545726            0"
      ]
     },
     "execution_count": 58,
     "metadata": {},
     "output_type": "execute_result"
    }
   ],
   "source": [
    "dbscan_data #.sample(10)"
   ]
  },
  {
   "cell_type": "code",
   "execution_count": 59,
   "id": "8d1f42f3",
   "metadata": {},
   "outputs": [
    {
     "data": {
      "image/png": "[encoded data removed]",
      "text/plain": [
       "<Figure size 1000x800 with 1 Axes>"
      ]
     },
     "metadata": {},
     "output_type": "display_data"
    }
   ],
   "source": [
    "# Set up scatterplot with color of points based on cluster labels\n",
    "fig, ax1 = plt.subplots(figsize=(10,8))\n",
    "\n",
    "#labels\n",
    "ax1.set_xlabel('avg_air_time')\n",
    "ax1.set_ylabel('avg_arr_delay')\n",
    "ax1.set_title('dbscan clustering example')\n",
    "ax1.set_xlim(0,250)\n",
    "#plot\n",
    "plt.scatter(dbscan_data['avg_air_time'], \n",
    "            dbscan_data['avg_arr_delay'], \n",
    "            s = 300, \n",
    "            c = dbscan_data['db_clusters'] # color based on cluster labels \n",
    "           ); "
   ]
  }
 ],
 "metadata": {
  "interpreter": {
   "hash": "fb3e1a2077f2902eb8c3ba2014e6d61997016f8abe854ae1e70d98c24225bfd5"
  },
  "kernelspec": {
   "display_name": "Python 3.8.5 64-bit ('dbscan_exercise': conda)",
   "name": "python3"
  },
  "language_info": {
   "codemirror_mode": {
    "name": "ipython",
    "version": 3
   },
   "file_extension": ".py",
   "mimetype": "text/x-python",
   "name": "python",
   "nbconvert_exporter": "python",
   "pygments_lexer": "ipython3",
   "version": "3.9.7"
  }
 },
 "nbformat": 4,
 "nbformat_minor": 5
}
