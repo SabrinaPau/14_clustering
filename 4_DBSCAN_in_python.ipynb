{
 "cells": [
  {
   "cell_type": "markdown",
   "id": "c85f9191",
   "metadata": {},
   "source": [
    "# Clustering with DBSCAN\n",
    "## Clustering airlines based on average air time and average arrival delay using DBSCAN"
   ]
  },
  {
   "cell_type": "markdown",
   "id": "d901efd7",
   "metadata": {},
   "source": [
    "In this notebook we will come back to our flights data and apply the DBSCAN clustering algorithm. \n",
    "\n",
    "At the end of this notebook you should: \n",
    "* know how to use the sklearn implementations of `DBSCAN`  \n",
    "* know which steps are necessary to perform clustering with `DBSCAN`    "
   ]
  },
  {
   "cell_type": "markdown",
   "id": "c9c15c21",
   "metadata": {},
   "source": [
    "# Task\n",
    "As K-Means has its Limitations, use DBSCAN for clustering the different airlines in our flight data based on their average Air Time and average Arrival Delay."
   ]
  },
  {
   "cell_type": "code",
   "execution_count": 1,
   "id": "43076016",
   "metadata": {},
   "outputs": [],
   "source": [
    "# Import all necessary libraries\n",
    "import pandas as pd\n",
    "import numpy as np\n",
    "import matplotlib.pyplot as plt\n",
    "\n",
    "from sklearn.cluster import KMeans\n",
    "from sklearn.cluster import DBSCAN\n",
    "from sklearn.preprocessing import StandardScaler"
   ]
  },
  {
   "cell_type": "markdown",
   "id": "598d2662",
   "metadata": {},
   "source": [
    "## Steps to follow\n",
    "**Hint:** You can use the k-means-in-python notebook as guide for this exercise."
   ]
  },
  {
   "cell_type": "code",
   "execution_count": 2,
   "id": "4a3d34f3",
   "metadata": {},
   "outputs": [],
   "source": [
    "# Import get_dataframe function from your own sql module\n",
    "\n",
    "# Import get_engine\n",
    "\n",
    "# create a variable called engine using the get_engine function"
   ]
  },
  {
   "cell_type": "code",
   "execution_count": 3,
   "id": "8aab31a0",
   "metadata": {},
   "outputs": [],
   "source": [
    "# define/assign the schema you want to query from\n",
    "schema = '_____'"
   ]
  },
  {
   "cell_type": "code",
   "execution_count": null,
   "id": "78af28f6",
   "metadata": {},
   "outputs": [],
   "source": [
    "# Get the aggregated data from the database\n",
    "     # airline, avg(air_time), avg(arr_delay\n",
    "# Hint: As in Notebook 2, use sql a select statement within pd.read_sql_query()."
   ]
  },
  {
   "cell_type": "code",
   "execution_count": null,
   "id": "9a392215",
   "metadata": {},
   "outputs": [],
   "source": [
    "# Set up the scaler object to standardize the data using StandardScaler()"
   ]
  },
  {
   "cell_type": "code",
   "execution_count": null,
   "id": "b4bf6b85",
   "metadata": {},
   "outputs": [],
   "source": [
    "# Set up the DBSCAN object and cluster using the scaled data\n",
    "# Hint: dbscan=DBSCAN(), dbscan.fit(yourdata)"
   ]
  },
  {
   "cell_type": "code",
   "execution_count": null,
   "id": "09e4aa22",
   "metadata": {},
   "outputs": [],
   "source": [
    "# Write the clusters (.labels_) to the dataframe as a new column "
   ]
  },
  {
   "cell_type": "code",
   "execution_count": null,
   "id": "8d1f42f3",
   "metadata": {},
   "outputs": [],
   "source": [
    "# Set up scatterplot with color of points based on cluster labels"
   ]
  }
 ],
 "metadata": {
  "interpreter": {
   "hash": "fb3e1a2077f2902eb8c3ba2014e6d61997016f8abe854ae1e70d98c24225bfd5"
  },
  "kernelspec": {
   "display_name": "Python 3.8.5 64-bit ('dbscan_exercise': conda)",
   "name": "python3"
  },
  "language_info": {
   "codemirror_mode": {
    "name": "ipython",
    "version": 3
   },
   "file_extension": ".py",
   "mimetype": "text/x-python",
   "name": "python",
   "nbconvert_exporter": "python",
   "pygments_lexer": "ipython3",
   "version": "3.8.5"
  }
 },
 "nbformat": 4,
 "nbformat_minor": 5
}
