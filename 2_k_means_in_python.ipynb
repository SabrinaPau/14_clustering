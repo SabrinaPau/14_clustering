{
 "cells": [
  {
   "cell_type": "markdown",
   "id": "257a92fb",
   "metadata": {},
   "source": [
    "# Clustering with K-Means\n",
    "### Clustering airlines based on average air time and average arrival delay using K-Means"
   ]
  },
  {
   "cell_type": "markdown",
   "id": "8f02846b",
   "metadata": {},
   "source": [
    "There are a lot of clustering algorithms available and choosing the right one is sometimes difficult. As in our lecture, in this repository we will focus on two of the available clustering algorithms: **K-Means** and **DBSCAN**.\n",
    "\n",
    "In this notebook we will use our beloved flights data to apply the K-Means clustering algorithm. \n",
    "\n",
    "At the end of this notebook you should: \n",
    "* know how to use the sklearn implementations of `K-Means`  \n",
    "* know which steps are necessary to perform clustering with `K-Means`    \n",
    "* know what results you will get by clustering \n",
    "\n",
    "For a deeper understanding of the `K-Means` algortihm, check out notebook 6 in this repository."
   ]
  },
  {
   "cell_type": "code",
   "execution_count": null,
   "id": "401cf85b",
   "metadata": {},
   "outputs": [],
   "source": [
    "# Import all necessary libraries\n",
    "import pandas as pd\n",
    "import numpy as np\n",
    "import matplotlib.pyplot as plt\n",
    "\n",
    "from sklearn.cluster import KMeans\n",
    "from sklearn.cluster import DBSCAN\n",
    "from sklearn.preprocessing import StandardScaler, MinMaxScaler"
   ]
  },
  {
   "cell_type": "code",
   "execution_count": null,
   "id": "8eae3ab6",
   "metadata": {},
   "outputs": [],
   "source": [
    "# Import get_dataframe function from your own sql module\n",
    "from sql_functions import get_dataframe\n",
    "\n",
    "# Import get_engine\n",
    "from sql_functions import get_engine\n",
    "\n",
    "# create a variable called engine using the get_engine function\n",
    "engine = get_engine()"
   ]
  },
  {
   "cell_type": "code",
   "execution_count": null,
   "id": "5a875dcf",
   "metadata": {},
   "outputs": [],
   "source": [
    "# define/assign the schema you want to query from\n",
    "schema = 'hh_analytics_22_2'"
   ]
  },
  {
   "cell_type": "code",
   "execution_count": null,
   "id": "c6647e45",
   "metadata": {},
   "outputs": [],
   "source": [
    "# Get the aggregated data from the database\n",
    "sql_select = f'''select \n",
    "    airline, \n",
    "    count(*) as flights, \n",
    "    avg(air_time) as avg_air_time, \n",
    "    avg(arr_delay) as avg_arr_delay\n",
    "from {schema}.flights\n",
    "group by 1\n",
    "'''"
   ]
  },
  {
   "cell_type": "code",
   "execution_count": null,
   "id": "3bb01f26",
   "metadata": {},
   "outputs": [],
   "source": [
    "# Query the database\n",
    "k_means_data = pd.read_sql_query(sql_select, engine)"
   ]
  },
  {
   "cell_type": "code",
   "execution_count": null,
   "id": "5121cb6c",
   "metadata": {},
   "outputs": [],
   "source": [
    "# check results\n",
    "k_means_data.head()"
   ]
  },
  {
   "cell_type": "markdown",
   "id": "88094945",
   "metadata": {},
   "source": [
    "### Scale your data\n",
    "Often the input features of your model have different units which means that the variables also have different scales. While some model types (e.g. tree-based models like decision tree or random forest) are unaffected by the scale of numerical input variables, many machine learning algorithms including f.e. algorithms using distance measures (e.g. K-Means) perform better when the input features are scaled to a specific range. \n",
    "**You can learn more about scaling in Notebook 7**"
   ]
  },
  {
   "cell_type": "code",
   "execution_count": null,
   "id": "54e337ed",
   "metadata": {},
   "outputs": [],
   "source": [
    "# Scaling with standard scaler\n",
    "# First, a StandardScaler instance is defined with default hyperparameters.\n",
    "# After defining we can call the fit_transform() function and pass it to our data we want to transform.\n",
    "\n",
    "sc = StandardScaler()\n",
    "scaled_data = sc.fit_transform(k_means_data[['avg_air_time', 'avg_arr_delay']])"
   ]
  },
  {
   "cell_type": "code",
   "execution_count": null,
   "id": "260cefe0",
   "metadata": {},
   "outputs": [],
   "source": [
    "# Result is a transformed array with transformed values\n",
    "scaled_data"
   ]
  },
  {
   "cell_type": "code",
   "execution_count": null,
   "id": "34de040d",
   "metadata": {},
   "outputs": [],
   "source": [
    "# set up the kmean object and cluster using the scaled data\n",
    "kmeans = KMeans(n_clusters=3)\n",
    "kmeans.fit(X=scaled_data)\n",
    "\n",
    "# Write the clusters to the dataframe as a new column\n",
    "k_means_data['k_clusters'] = kmeans.labels_"
   ]
  },
  {
   "cell_type": "code",
   "execution_count": null,
   "id": "4d0ff1cb",
   "metadata": {},
   "outputs": [],
   "source": [
    "# Check dataframe with assigned labels\n",
    "k_means_data.head()"
   ]
  },
  {
   "cell_type": "code",
   "execution_count": null,
   "id": "cbbeb2b6",
   "metadata": {},
   "outputs": [],
   "source": [
    "# Chart the data using matplotlib\n",
    "fig, ax1 = plt.subplots(figsize=(10,8))\n",
    "\n",
    "#labels\n",
    "ax1.set_xlabel('avg_air_time')\n",
    "ax1.set_ylabel('avg_arr_delay')\n",
    "ax1.set_title('k means clustering example')\n",
    "ax1.set_xlim(0,250)\n",
    "#plot\n",
    "plt.scatter(k_means_data['avg_air_time'], \n",
    "            k_means_data['avg_arr_delay'], \n",
    "            s = 300, \n",
    "            c = k_means_data['k_clusters'] # color based on cluster labels \n",
    "           ); "
   ]
  }
 ],
 "metadata": {
  "interpreter": {
   "hash": "a9196ed29717c032a5647b3d4e686475ff2d81ecd1a2edd58fd17f587842f5f2"
  },
  "kernelspec": {
   "display_name": "Python 3.8.5 ('clustering_exercise')",
   "language": "python",
   "name": "python3"
  },
  "language_info": {
   "codemirror_mode": {
    "name": "ipython",
    "version": 3
   },
   "file_extension": ".py",
   "mimetype": "text/x-python",
   "name": "python",
   "nbconvert_exporter": "python",
   "pygments_lexer": "ipython3",
   "version": "3.8.5"
  }
 },
 "nbformat": 4,
 "nbformat_minor": 5
}
