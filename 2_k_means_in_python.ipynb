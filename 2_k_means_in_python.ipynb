{
 "cells": [
  {
   "cell_type": "markdown",
   "id": "257a92fb",
   "metadata": {},
   "source": [
    "# Clustering with K-Means\n",
    "### Clustering airlines based on average air time and average arrival delay using K-Means"
   ]
  },
  {
   "cell_type": "markdown",
   "id": "8f02846b",
   "metadata": {},
   "source": [
    "There are a lot of clustering algorithms available and choosing the right one is sometimes difficult. As in our lecture, in this repository we will focus on two of the available clustering algorithms: **K-Means** and **DBSCAN**.\n",
    "\n",
    "In this notebook we will use our beloved flights data to apply the K-Means clustering algorithm. \n",
    "\n",
    "At the end of this notebook you should: \n",
    "* know how to use the sklearn implementations of `K-Means`  \n",
    "* know which steps are necessary to perform clustering with `K-Means`    \n",
    "* know what results you will get by clustering \n",
    "\n",
    "For a deeper understanding of the `K-Means` algortihm, check out notebook 6 in this repository."
   ]
  },
  {
   "cell_type": "code",
   "execution_count": 1,
   "id": "401cf85b",
   "metadata": {},
   "outputs": [],
   "source": [
    "# Import all necessary libraries\n",
    "import pandas as pd\n",
    "import numpy as np\n",
    "import matplotlib.pyplot as plt\n",
    "\n",
    "from sklearn.cluster import KMeans\n",
    "from sklearn.cluster import DBSCAN\n",
    "from sklearn.preprocessing import StandardScaler, MinMaxScaler"
   ]
  },
  {
   "cell_type": "code",
   "execution_count": 2,
   "id": "8eae3ab6",
   "metadata": {},
   "outputs": [],
   "source": [
    "# Import get_dataframe function from your own sql module\n",
    "from sql_functions import get_dataframe\n",
    "\n",
    "# Import get_engine\n",
    "from sql_functions import get_engine\n",
    "\n",
    "# create a variable called engine using the get_engine function\n",
    "engine = get_engine()"
   ]
  },
  {
   "cell_type": "code",
   "execution_count": 3,
   "id": "5a875dcf",
   "metadata": {},
   "outputs": [],
   "source": [
    "# define/assign the schema you want to query from\n",
    "schema = 'hh_analytics_24_1'"
   ]
  },
  {
   "cell_type": "code",
   "execution_count": 4,
   "id": "c6647e45",
   "metadata": {},
   "outputs": [],
   "source": [
    "# Get the aggregated data from the database\n",
    "sql_select = f'''select \n",
    "    airline, \n",
    "    count(*) as flights, \n",
    "    avg(air_time) as avg_air_time, \n",
    "    avg(arr_delay) as avg_arr_delay\n",
    "from {schema}.flights\n",
    "group by 1\n",
    "'''\n",
    "\n",
    "# ''' to write the sql-query in different lines"
   ]
  },
  {
   "cell_type": "code",
   "execution_count": 5,
   "id": "3bb01f26",
   "metadata": {},
   "outputs": [],
   "source": [
    "# Query the database\n",
    "k_means_data = pd.read_sql_query(sql_select, engine)"
   ]
  },
  {
   "cell_type": "code",
   "execution_count": 6,
   "id": "5121cb6c",
   "metadata": {},
   "outputs": [
    {
     "data": {
      "text/html": [
       "<div>\n",
       "<style scoped>\n",
       "    .dataframe tbody tr th:only-of-type {\n",
       "        vertical-align: middle;\n",
       "    }\n",
       "\n",
       "    .dataframe tbody tr th {\n",
       "        vertical-align: top;\n",
       "    }\n",
       "\n",
       "    .dataframe thead th {\n",
       "        text-align: right;\n",
       "    }\n",
       "</style>\n",
       "<table border=\"1\" class=\"dataframe\">\n",
       "  <thead>\n",
       "    <tr style=\"text-align: right;\">\n",
       "      <th></th>\n",
       "      <th>airline</th>\n",
       "      <th>flights</th>\n",
       "      <th>avg_air_time</th>\n",
       "      <th>avg_arr_delay</th>\n",
       "    </tr>\n",
       "  </thead>\n",
       "  <tbody>\n",
       "    <tr>\n",
       "      <th>0</th>\n",
       "      <td>9E</td>\n",
       "      <td>19501</td>\n",
       "      <td>61.791292</td>\n",
       "      <td>-7.666273</td>\n",
       "    </tr>\n",
       "    <tr>\n",
       "      <th>1</th>\n",
       "      <td>AA</td>\n",
       "      <td>38226</td>\n",
       "      <td>140.025458</td>\n",
       "      <td>-6.076874</td>\n",
       "    </tr>\n",
       "    <tr>\n",
       "      <th>2</th>\n",
       "      <td>AS</td>\n",
       "      <td>10628</td>\n",
       "      <td>175.043396</td>\n",
       "      <td>-8.930206</td>\n",
       "    </tr>\n",
       "    <tr>\n",
       "      <th>3</th>\n",
       "      <td>B6</td>\n",
       "      <td>8937</td>\n",
       "      <td>167.544466</td>\n",
       "      <td>4.639062</td>\n",
       "    </tr>\n",
       "    <tr>\n",
       "      <th>4</th>\n",
       "      <td>DL</td>\n",
       "      <td>48239</td>\n",
       "      <td>135.102183</td>\n",
       "      <td>-4.898960</td>\n",
       "    </tr>\n",
       "  </tbody>\n",
       "</table>\n",
       "</div>"
      ],
      "text/plain": [
       "  airline  flights  avg_air_time  avg_arr_delay\n",
       "0      9E    19501     61.791292      -7.666273\n",
       "1      AA    38226    140.025458      -6.076874\n",
       "2      AS    10628    175.043396      -8.930206\n",
       "3      B6     8937    167.544466       4.639062\n",
       "4      DL    48239    135.102183      -4.898960"
      ]
     },
     "execution_count": 6,
     "metadata": {},
     "output_type": "execute_result"
    }
   ],
   "source": [
    "# check results\n",
    "k_means_data.head()"
   ]
  },
  {
   "cell_type": "markdown",
   "id": "88094945",
   "metadata": {},
   "source": [
    "### Scale your data\n",
    "Often the input features of your model have different units which means that the variables also have different scales. While some model types (e.g. tree-based models like decision tree or random forest) are unaffected by the scale of numerical input variables, many machine learning algorithms including f.e. algorithms using distance measures (e.g. K-Means) perform better when the input features are scaled to a specific range. \n",
    "**You can learn more about scaling in Notebook 7**"
   ]
  },
  {
   "cell_type": "code",
   "execution_count": 7,
   "id": "54e337ed",
   "metadata": {},
   "outputs": [],
   "source": [
    "# Scaling with standard scaler\n",
    "# First, a StandardScaler instance is defined with default hyperparameters.\n",
    "# After defining we can call the fit_transform() function and pass it to our data we want to transform.\n",
    "\n",
    "sc = StandardScaler()\n",
    "scaled_data = sc.fit_transform(k_means_data[['avg_air_time', 'avg_arr_delay']])"
   ]
  },
  {
   "cell_type": "code",
   "execution_count": 8,
   "id": "260cefe0",
   "metadata": {},
   "outputs": [
    {
     "data": {
      "text/plain": [
       "array([[-1.5527464 , -0.85398448],\n",
       "       [ 0.69995618, -0.39410511],\n",
       "       [ 1.70827522, -1.2196933 ],\n",
       "       [ 1.49234835,  2.70646343],\n",
       "       [ 0.55819364, -0.05328537],\n",
       "       [ 0.37523007, -0.94321833],\n",
       "       [ 0.22571071,  1.41120815],\n",
       "       [ 0.74382687, -0.55955803],\n",
       "       [-1.03784605,  1.10975542],\n",
       "       [ 0.67343831,  0.12990026],\n",
       "       [-1.3985775 ,  0.76387432],\n",
       "       [-0.967938  ,  0.32292071],\n",
       "       [-1.03177606, -0.16848109],\n",
       "       [ 1.14846457, -0.6402114 ],\n",
       "       [-0.25887898, -0.68514903],\n",
       "       [-0.49647275,  0.18201104],\n",
       "       [-0.88120818, -1.10844719]])"
      ]
     },
     "execution_count": 8,
     "metadata": {},
     "output_type": "execute_result"
    }
   ],
   "source": [
    "# Result is a transformed array with transformed values\n",
    "scaled_data"
   ]
  },
  {
   "cell_type": "code",
   "execution_count": 9,
   "id": "34de040d",
   "metadata": {},
   "outputs": [
    {
     "name": "stderr",
     "output_type": "stream",
     "text": [
      "/opt/homebrew/Caskroom/miniconda/base/envs/nf_sql/lib/python3.9/site-packages/sklearn/cluster/_kmeans.py:1412: FutureWarning: The default value of `n_init` will change from 10 to 'auto' in 1.4. Set the value of `n_init` explicitly to suppress the warning\n",
      "  super()._check_params_vs_input(X, default_n_init=10)\n"
     ]
    }
   ],
   "source": [
    "# set up the kmean object and cluster using the scaled data\n",
    "kmeans = KMeans(n_clusters=3)\n",
    "kmeans.fit(X=scaled_data)\n",
    "\n",
    "# Write the clusters to the dataframe as a new column\n",
    "k_means_data['k_clusters'] = kmeans.labels_"
   ]
  },
  {
   "cell_type": "code",
   "execution_count": 10,
   "id": "4d0ff1cb",
   "metadata": {},
   "outputs": [
    {
     "data": {
      "text/html": [
       "<div>\n",
       "<style scoped>\n",
       "    .dataframe tbody tr th:only-of-type {\n",
       "        vertical-align: middle;\n",
       "    }\n",
       "\n",
       "    .dataframe tbody tr th {\n",
       "        vertical-align: top;\n",
       "    }\n",
       "\n",
       "    .dataframe thead th {\n",
       "        text-align: right;\n",
       "    }\n",
       "</style>\n",
       "<table border=\"1\" class=\"dataframe\">\n",
       "  <thead>\n",
       "    <tr style=\"text-align: right;\">\n",
       "      <th></th>\n",
       "      <th>airline</th>\n",
       "      <th>flights</th>\n",
       "      <th>avg_air_time</th>\n",
       "      <th>avg_arr_delay</th>\n",
       "      <th>k_clusters</th>\n",
       "    </tr>\n",
       "  </thead>\n",
       "  <tbody>\n",
       "    <tr>\n",
       "      <th>0</th>\n",
       "      <td>9E</td>\n",
       "      <td>19501</td>\n",
       "      <td>61.791292</td>\n",
       "      <td>-7.666273</td>\n",
       "      <td>1</td>\n",
       "    </tr>\n",
       "    <tr>\n",
       "      <th>1</th>\n",
       "      <td>AA</td>\n",
       "      <td>38226</td>\n",
       "      <td>140.025458</td>\n",
       "      <td>-6.076874</td>\n",
       "      <td>2</td>\n",
       "    </tr>\n",
       "    <tr>\n",
       "      <th>2</th>\n",
       "      <td>AS</td>\n",
       "      <td>10628</td>\n",
       "      <td>175.043396</td>\n",
       "      <td>-8.930206</td>\n",
       "      <td>2</td>\n",
       "    </tr>\n",
       "    <tr>\n",
       "      <th>3</th>\n",
       "      <td>B6</td>\n",
       "      <td>8937</td>\n",
       "      <td>167.544466</td>\n",
       "      <td>4.639062</td>\n",
       "      <td>0</td>\n",
       "    </tr>\n",
       "    <tr>\n",
       "      <th>4</th>\n",
       "      <td>DL</td>\n",
       "      <td>48239</td>\n",
       "      <td>135.102183</td>\n",
       "      <td>-4.898960</td>\n",
       "      <td>2</td>\n",
       "    </tr>\n",
       "  </tbody>\n",
       "</table>\n",
       "</div>"
      ],
      "text/plain": [
       "  airline  flights  avg_air_time  avg_arr_delay  k_clusters\n",
       "0      9E    19501     61.791292      -7.666273           1\n",
       "1      AA    38226    140.025458      -6.076874           2\n",
       "2      AS    10628    175.043396      -8.930206           2\n",
       "3      B6     8937    167.544466       4.639062           0\n",
       "4      DL    48239    135.102183      -4.898960           2"
      ]
     },
     "execution_count": 10,
     "metadata": {},
     "output_type": "execute_result"
    }
   ],
   "source": [
    "# Check dataframe with assigned labels\n",
    "k_means_data.head()"
   ]
  },
  {
   "cell_type": "code",
   "execution_count": 11,
   "id": "cbbeb2b6",
   "metadata": {},
   "outputs": [
    {
     "data": {
      "image/png": "[encoded data removed]",
      "text/plain": [
       "<Figure size 1000x800 with 1 Axes>"
      ]
     },
     "metadata": {},
     "output_type": "display_data"
    }
   ],
   "source": [
    "# Chart the data using matplotlib\n",
    "fig, ax1 = plt.subplots(figsize=(10,8))\n",
    "\n",
    "#labels\n",
    "ax1.set_xlabel('avg_air_time')\n",
    "ax1.set_ylabel('avg_arr_delay')\n",
    "ax1.set_title('k means clustering example')\n",
    "ax1.set_xlim(0,250)\n",
    "#plot\n",
    "plt.scatter(k_means_data['avg_air_time'], \n",
    "            k_means_data['avg_arr_delay'], \n",
    "            s = 300, \n",
    "            c = k_means_data['k_clusters'] # color based on cluster labels \n",
    "           ); "
   ]
  }
 ],
 "metadata": {
  "interpreter": {
   "hash": "a9196ed29717c032a5647b3d4e686475ff2d81ecd1a2edd58fd17f587842f5f2"
  },
  "kernelspec": {
   "display_name": "Python 3.8.5 ('clustering_exercise')",
   "language": "python",
   "name": "python3"
  },
  "language_info": {
   "codemirror_mode": {
    "name": "ipython",
    "version": 3
   },
   "file_extension": ".py",
   "mimetype": "text/x-python",
   "name": "python",
   "nbconvert_exporter": "python",
   "pygments_lexer": "ipython3",
   "version": "3.9.7"
  }
 },
 "nbformat": 4,
 "nbformat_minor": 5
}
