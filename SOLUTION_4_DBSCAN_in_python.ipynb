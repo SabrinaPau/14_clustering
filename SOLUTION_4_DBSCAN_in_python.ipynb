{
 "cells": [
  {
   "cell_type": "markdown",
   "id": "faf2550a",
   "metadata": {},
   "source": [
    "# Clustering with DBSCAN\n",
    "## Clustering airlines based on average air time and average arrival delay using DBSCAN"
   ]
  },
  {
   "cell_type": "markdown",
   "id": "835a5310",
   "metadata": {},
   "source": [
    "In this notebook we will come back to our flights data and apply the DBSCAN clustering algorithm. \n",
    "\n",
    "At the end of this notebook you should: \n",
    "* know how to use the sklearn implementations of `DBSCAN`  \n",
    "* know which steps are necessary to perform clustering with `DBSCAN`    "
   ]
  },
  {
   "cell_type": "markdown",
   "id": "20d9a9e7",
   "metadata": {},
   "source": [
    "# Task\n",
    "As K-Means has its Limitations, use DBSCAN for clustering the different airlines in our flight data based on their average Air Time and average Arrival Delay."
   ]
  },
  {
   "cell_type": "code",
   "execution_count": null,
   "id": "916bc7be",
   "metadata": {},
   "outputs": [],
   "source": [
    "# Import all necessary libraries\n",
    "import pandas as pd\n",
    "import numpy as np\n",
    "import matplotlib.pyplot as plt\n",
    "\n",
    "from sklearn.cluster import KMeans\n",
    "from sklearn.cluster import DBSCAN\n",
    "from sklearn.preprocessing import StandardScaler"
   ]
  },
  {
   "cell_type": "markdown",
   "id": "91625e2e",
   "metadata": {},
   "source": [
    "## Steps to follow\n",
    "**Hint:** You can use the k-means-in-python notebook as guide for this exercise."
   ]
  },
  {
   "cell_type": "code",
   "execution_count": null,
   "id": "368b01fd",
   "metadata": {},
   "outputs": [],
   "source": [
    "# Import get_dataframe function from your own sql module\n",
    "from sql_functions import get_dataframe\n",
    "\n",
    "# Import get_engine\n",
    "from sql_functions import get_engine\n",
    "\n",
    "# create a variable called engine using the get_engine function\n",
    "engine = get_engine()"
   ]
  },
  {
   "cell_type": "code",
   "execution_count": null,
   "id": "5e25cf26",
   "metadata": {},
   "outputs": [],
   "source": [
    "# define/assign the schema you want to query from\n",
    "schema = 'hh_analytics_22_2'"
   ]
  },
  {
   "cell_type": "code",
   "execution_count": null,
   "id": "a9992ae9",
   "metadata": {},
   "outputs": [],
   "source": [
    "# Get the aggregated data from the database\n",
    "sql_select = f'''select \n",
    "    airline, \n",
    "    count(*) as flights, \n",
    "    avg(air_time) as avg_air_time, \n",
    "    avg(arr_delay) as avg_arr_delay\n",
    "from {schema}.flights\n",
    "group by 1\n",
    "'''"
   ]
  },
  {
   "cell_type": "code",
   "execution_count": null,
   "id": "358178c1",
   "metadata": {},
   "outputs": [],
   "source": [
    "# Query the database\n",
    "dbscan_data = pd.read_sql_query(sql_select, engine)"
   ]
  },
  {
   "cell_type": "code",
   "execution_count": null,
   "id": "d3e89af0",
   "metadata": {},
   "outputs": [],
   "source": [
    "# Set up the scaler object to standardize the data using StandardScaler()\n",
    "scaler = StandardScaler()"
   ]
  },
  {
   "cell_type": "code",
   "execution_count": null,
   "id": "645b08da",
   "metadata": {},
   "outputs": [],
   "source": [
    "# transform your features to standardizes values\n",
    "scaled_data = scaler.fit_transform(dbscan_data[['avg_air_time', 'avg_arr_delay']])\n",
    "scaled_data"
   ]
  },
  {
   "cell_type": "code",
   "execution_count": null,
   "id": "43315d29",
   "metadata": {},
   "outputs": [],
   "source": [
    "# Set up the DBSCAN object and cluster using the scaled data\n",
    "# Hint: dbscan=DBSCAN(), dbscan.fit(yourdata)\n",
    "\n",
    "dbscan = DBSCAN(eps=0.5\n",
    "                ,min_samples=2)\n",
    "dbscan.fit(scaled_data)"
   ]
  },
  {
   "cell_type": "code",
   "execution_count": null,
   "id": "dc94b891",
   "metadata": {},
   "outputs": [],
   "source": [
    "# Write the clusters (.labels_) to the dataframe as a new column.\n",
    "dbscan_data['dbscan_clusters'] = dbscan.labels_"
   ]
  },
  {
   "cell_type": "code",
   "execution_count": null,
   "id": "d1805cb1",
   "metadata": {},
   "outputs": [],
   "source": [
    "# Set up scatterplot with color of points based on cluster labels\n",
    "\n",
    "# Chart the data using matplotlib\n",
    "fig, ax1 = plt.subplots(figsize=(10,8))\n",
    "\n",
    "#labels\n",
    "ax1.set_xlabel('avg_air_time')\n",
    "ax1.set_ylabel('avg_arr_delay')\n",
    "ax1.set_title('DBSCAN clustering example')\n",
    "ax1.set_xlim(0,250)\n",
    "#plot\n",
    "plt.scatter(dbscan_data['avg_air_time'], \n",
    "            dbscan_data['avg_arr_delay'], \n",
    "            s = 300, \n",
    "            c = dbscan_data['dbscan_clusters'] # color based on cluster labels \n",
    "           ); "
   ]
  },
  {
   "cell_type": "code",
   "execution_count": null,
   "id": "91a9293d",
   "metadata": {},
   "outputs": [],
   "source": [
    "# Have a look at the clusters assigned to the airlines in the dataframe.\n",
    "# Check the sklearn.cluster.DBSCAN documentation if some values, maybe their signs, are unexpected to you.\n",
    "dbscan_data"
   ]
  }
 ],
 "metadata": {
  "kernelspec": {
   "display_name": "Python 3.8.5 ('clustering_exercise')",
   "language": "python",
   "name": "python3"
  },
  "language_info": {
   "codemirror_mode": {
    "name": "ipython",
    "version": 3
   },
   "file_extension": ".py",
   "mimetype": "text/x-python",
   "name": "python",
   "nbconvert_exporter": "python",
   "pygments_lexer": "ipython3",
   "version": "3.8.5"
  },
  "vscode": {
   "interpreter": {
    "hash": "a9196ed29717c032a5647b3d4e686475ff2d81ecd1a2edd58fd17f587842f5f2"
   }
  }
 },
 "nbformat": 4,
 "nbformat_minor": 5
}
