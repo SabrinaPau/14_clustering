{
 "cells": [
  {
   "cell_type": "markdown",
   "metadata": {},
   "source": [
    "# K-Means from scratch"
   ]
  },
  {
   "cell_type": "markdown",
   "metadata": {},
   "source": [
    "In this notebook, we will do the K-Means clustering from scratch.  \n",
    "We will go through it step by step before we combine these steps in one function."
   ]
  },
  {
   "cell_type": "code",
   "execution_count": null,
   "metadata": {},
   "outputs": [],
   "source": [
    "import numpy as np\n",
    "import pandas as pd\n",
    "from scipy.spatial import Voronoi, voronoi_plot_2d\n",
    "from scipy.spatial.distance import euclidean\n",
    "from sklearn.datasets import make_blobs\n",
    "import matplotlib.pyplot as plt\n",
    "import seaborn as sns\n",
    "from collections import defaultdict\n",
    "\n",
    "%matplotlib inline"
   ]
  },
  {
   "cell_type": "code",
   "execution_count": null,
   "metadata": {},
   "outputs": [],
   "source": [
    "# First create a dataset to work with and plot the actual clustering\n",
    "X, y = make_blobs(\n",
    "                n_samples=150, \n",
    "                n_features=2,\n",
    "                centers=5, \n",
    "                cluster_std=1.5,\n",
    "                shuffle=True,\n",
    "                random_state=42\n",
    "                )\n",
    "\n",
    "plt.scatter(X[:, 0], X[:, 1], c=y);"
   ]
  },
  {
   "cell_type": "markdown",
   "metadata": {},
   "source": [
    "## 1. Choose number of clusters and place centroids in random location"
   ]
  },
  {
   "cell_type": "code",
   "execution_count": null,
   "metadata": {},
   "outputs": [],
   "source": [
    "# Create the initial centroids\n",
    "n_centers=3\n",
    "np.random.seed(42)\n",
    "centroids = (np.random.rand(n_centers, 2))*5"
   ]
  },
  {
   "cell_type": "code",
   "execution_count": null,
   "metadata": {},
   "outputs": [],
   "source": [
    "# Plot centroids within a Voronoi diagram \n",
    "vor = Voronoi(centroids)\n",
    "_ = voronoi_plot_2d(vor, show_points=True, show_vertices=False, line_width=2, point_size=20)"
   ]
  },
  {
   "cell_type": "markdown",
   "metadata": {},
   "source": [
    "## 2. Classify given points by calculating euclidean distance between data points and centroids"
   ]
  },
  {
   "cell_type": "code",
   "execution_count": null,
   "metadata": {},
   "outputs": [],
   "source": [
    "def classify_points(centers, data):\n",
    "    '''Classifies points from data according to which center they're closest to.'''\n",
    "    # Create an empty dictionary to hold the classified points\n",
    "    classes = defaultdict(list)\n",
    "    \n",
    "    # Create list of colors to use as the class names\n",
    "    class_list = sns.color_palette('husl').as_hex()\n",
    "\n",
    "    # Loop through each point in the dataset, calculate the euclidean distance to each centroid\n",
    "    # Result is a dists list with as many different distances as we have clusters\n",
    "    for pt in data:      \n",
    "        dists = [euclidean(pt, center) for center in centers]\n",
    "        # Based on the dists list, we build as many lists as we have clusters \n",
    "        # Each list 'represents' one centroid/cluster\n",
    "        # Each point is appended to one of the lists dependend on its smallest distance\n",
    "        classes[class_list[dists.index(min(dists))]].append(pt)\n",
    "\n",
    "    # Concat the list of points in each class together to a np array.\n",
    "    classes = {cl: np.array(classes[cl]) for cl in classes.keys()}\n",
    "    return classes"
   ]
  },
  {
   "cell_type": "code",
   "execution_count": null,
   "metadata": {},
   "outputs": [],
   "source": [
    "# Execute function for data X and initially created centroids\n",
    "# Result shows a dictionary containing three concatenated lists (since we have three clusters) \n",
    "# Each single list contains the points (x and y-value) with the smallest distance to the centroid represented by list\n",
    "data_classified = classify_points(centroids, X)\n",
    "data_classified"
   ]
  },
  {
   "cell_type": "markdown",
   "metadata": {},
   "source": [
    "## 3. Recalculate the cluster centers as a mean of data points assigned to it"
   ]
  },
  {
   "cell_type": "code",
   "execution_count": null,
   "metadata": {},
   "outputs": [],
   "source": [
    "def find_new_centers(data_classified):\n",
    "    '''Calculates new centers using mean of points in the classified data.'''\n",
    "    new_means = []\n",
    "    for pts in data_classified.values():\n",
    "        new_means.append(pts.mean(axis=0))\n",
    "    return np.array(new_means)"
   ]
  },
  {
   "cell_type": "code",
   "execution_count": null,
   "metadata": {},
   "outputs": [],
   "source": [
    "# Execute function to calculate new centroids using the previously classified data points\n",
    "find_new_centers(data_classified)"
   ]
  },
  {
   "cell_type": "markdown",
   "metadata": {},
   "source": [
    "**For a good clustering result, Step 2 and 3 needs to be repeated until no further changes occur**"
   ]
  },
  {
   "cell_type": "markdown",
   "metadata": {},
   "source": [
    "In the following block, you will find an overview of our defined functions as well as two plotting functions."
   ]
  },
  {
   "cell_type": "code",
   "execution_count": null,
   "metadata": {},
   "outputs": [],
   "source": [
    "# Define the functions for each step of the k-means alogorithm \n",
    "# Use a voronoi plot to show which points belong to which centroids \n",
    "# Plot the original dataset on the same plot to show the convergence of the algorithm\n",
    "# Algorithm source : https://blog.jsalv.com/pythonin-voronoi-and-k-means/\n",
    "\n",
    "# Classify given points by calculating euclidean distance between data points and centroids\n",
    "\n",
    "def classify_points(centers, data):\n",
    "    '''Classifies points from data according to which center they're closest to.'''\n",
    "    # Create an empty dictionary to hold the classified points\n",
    "    classes = defaultdict(list)\n",
    "\n",
    "    # Create list of colors to use as the class names\n",
    "    class_list = sns.color_palette('husl').as_hex()\n",
    "\n",
    "    # Loop through each point in the dataset, calculate the euclidean distance to each centroid\n",
    "    for pt in data:\n",
    "        dists = [euclidean(pt, center) for center in centers]\n",
    "        classes[class_list[dists.index(min(dists))]].append(pt)\n",
    "\n",
    "    # Concat the list of points in each class together to a np array.\n",
    "    classes = {cl: np.array(classes[cl]) for cl in classes.keys()}\n",
    "    return classes\n",
    "\n",
    "# Recalculate the cluster centers as a mean of data points assigned to it\n",
    "\n",
    "def find_new_centers(data_classified):\n",
    "    '''Calculates new centers using mean of points in the classified data.'''\n",
    "    new_means = []\n",
    "    for pts in data_classified.values():\n",
    "        new_means.append(pts.mean(axis=0))\n",
    "    return np.array(new_means)\n",
    "\n",
    "# Plot centroids and data\n",
    "\n",
    "def plot_voronoi(iteration, centroids, ax):\n",
    "    '''Plot the Voronoi diagram with our data classified onto the subplot.'''\n",
    "    # Uses the voronoi function to draw the dividing lines and the centroids\n",
    "    vor = Voronoi(centroids)\n",
    "    _ = voronoi_plot_2d(vor, ax[iteration], show_points=True, show_vertices=False, line_width=2, point_size=20)\n",
    "    \n",
    "def plot_scatter(iteration, data, ax):\n",
    "    '''Plots the original data onto the current ax'''\n",
    "    ax[iteration].scatter(data[:, 0], data[:, 1], c=y, s=15, alpha=0.7)\n",
    "    ax[iteration].set_title(f\"Iteration {iteration}\", fontsize=20)\n",
    "    ax[iteration].set_xlim(-14,10) \n",
    "    ax[iteration].set_ylim(-10,14)   "
   ]
  },
  {
   "cell_type": "markdown",
   "metadata": {},
   "source": [
    "# Defining main function"
   ]
  },
  {
   "cell_type": "markdown",
   "metadata": {},
   "source": [
    "Let's pack everything into one single function, which clusters our data based on specified number of clusters and number of iterations.  "
   ]
  },
  {
   "cell_type": "code",
   "execution_count": null,
   "metadata": {},
   "outputs": [],
   "source": [
    "def visualise_k_means(data, n_centers=3, n_iter=15, seed=42):\n",
    "    '''Loop through the steps of the alogorithm, stopping to make a plot each time to plot the results'''\n",
    "    # Create the initial centroids\n",
    "    \n",
    "    np.random.seed(seed)\n",
    "    centroids = (np.random.rand(n_centers, 2))*5\n",
    "\n",
    "    # Set up the matplotlib figure\n",
    "    fig, ax = plt.subplots(ncols=(n_iter), figsize=(20, 5))\n",
    "\n",
    "    # run through iterations of k_means\n",
    "    for i in range(n_iter):\n",
    "        # Assign points to centroids\n",
    "        data_classified = classify_points(centers=centroids, data=data)\n",
    "        \n",
    "        # Plot the Voronoi diagram of the centroids\n",
    "        plot_voronoi(i, centroids, ax)\n",
    "\n",
    "        # Plot the original data on the same ax\n",
    "        plot_scatter(i, data, ax)\n",
    "        \n",
    "        # Update the centroids based on lastest classified points\n",
    "        centroids = find_new_centers(data_classified)"
   ]
  },
  {
   "cell_type": "code",
   "execution_count": null,
   "metadata": {},
   "outputs": [],
   "source": [
    "# Run the function\n",
    "visualise_k_means(data=X, n_iter=7, n_centers=5, seed=42)"
   ]
  },
  {
   "cell_type": "code",
   "execution_count": null,
   "metadata": {},
   "outputs": [],
   "source": []
  }
 ],
 "metadata": {
  "interpreter": {
   "hash": "0e4771abb73651cc71498e03f3559c7e0f15f38d5124065b3832974a7bbffea7"
  },
  "kernelspec": {
   "display_name": "Python 3.8.5 64-bit ('nf_base': conda)",
   "name": "python3"
  },
  "language_info": {
   "codemirror_mode": {
    "name": "ipython",
    "version": 3
   },
   "file_extension": ".py",
   "mimetype": "text/x-python",
   "name": "python",
   "nbconvert_exporter": "python",
   "pygments_lexer": "ipython3",
   "version": "3.8.5"
  }
 },
 "nbformat": 4,
 "nbformat_minor": 4
}
